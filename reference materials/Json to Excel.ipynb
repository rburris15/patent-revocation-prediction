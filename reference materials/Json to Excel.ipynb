{
 "cells": [
  {
   "cell_type": "markdown",
   "id": "76c59656-fce7-445a-a15a-5c3fadb35c57",
   "metadata": {},
   "source": [
    "# JSON to Excel\n",
    "\n",
    "Short script to facilitate Json migration to Excel format"
   ]
  },
  {
   "cell_type": "code",
   "execution_count": 2,
   "id": "165901e0-c46a-4582-aa7f-8e251f7c14d8",
   "metadata": {},
   "outputs": [],
   "source": [
    "import json\n",
    "\n",
    "with open('./BOA_database_for_exercise_from_2020.json', 'r') as f:\n",
    "    boa_pharma = json.load(f)"
   ]
  },
  {
   "cell_type": "code",
   "execution_count": 3,
   "id": "6705dcc6-28d2-4aaa-bda4-c02a7330b852",
   "metadata": {},
   "outputs": [
    {
     "data": {
      "text/plain": [
       "(952, 61)"
      ]
     },
     "execution_count": 3,
     "metadata": {},
     "output_type": "execute_result"
    }
   ],
   "source": [
    "import pandas as pd\n",
    "\n",
    "def boa_to_df(boa):\n",
    "\n",
    "    if len(boa['opponents_reps']) == 0:\n",
    "        opponents = pd.DataFrame()\n",
    "    else:\n",
    "        opponents = pd.concat([\n",
    "        pd.DataFrame({f\"Opponent {i+1}\":[v[0]], f\"Representative {i+1}\":[v[1]]}) for i,v in enumerate(boa['opponents_reps'])\n",
    "        ], axis=1)\n",
    "    \n",
    "    return pd.concat([\n",
    "    pd.DataFrame.from_dict({\n",
    "        \"Decision date\" : [boa['date']],\n",
    "        \"Case number\" : [boa['case_number']],\n",
    "        \"Application number\" : [boa['application_number']],\n",
    "        \"Publication number\" : [boa['publication_number']],\n",
    "        \"IPC pharma\" : [boa['IPC pharma']],\n",
    "        \"IPC biosimilar\" : [boa['IPC biosimilar']],\n",
    "        \"IPCs\" : [\", \".join(boa['IPC'])],\n",
    "        \"Language\" : [boa['lang']],\n",
    "        \"Title of Invention\" : [boa['title_of_invention']],\n",
    "        \"Patent Proprietor\" : [boa['patent_proprietor']],\n",
    "        \"Headword\" : [boa['headword']],\n",
    "        \"Provisions\" : [\", \".join(boa['provisions'])],\n",
    "        \"Keywords\" : [', '.join(boa['keywords'])],\n",
    "        \"Decisions cited\" : [', '.join(boa['decisions_cited'])],\n",
    "        \"Summary\" : ['\\n\\n'.join(boa['summary'])],\n",
    "        \"Decision reasons\" : ['\\n\\n'.join(boa['decision_reasons'])],\n",
    "        \"Order\" : [', '.join(boa['order'])],\n",
    "        \"Order status\" : [boa['Order_status']],\n",
    "        \"Order status web\" : [boa['Order_status_web']],\n",
    "        \"Order status manual\" : [boa['Order_status_manual']],\n",
    "        \"Opponents\" : [', '.join(boa['opponents'])]  \n",
    "    }),\n",
    "    opponents\n",
    "    ], axis=1)\n",
    "\n",
    "boa_table = pd.concat([ boa_to_df(boa) for boa in boa_pharma], axis = 0)\n",
    "boa_table.shape"
   ]
  },
  {
   "cell_type": "code",
   "execution_count": 3,
   "id": "d8a0b71d-5aa6-4c45-85f9-a18e6b0eb329",
   "metadata": {},
   "outputs": [],
   "source": [
    "boa_table.to_excel('./BOA_database_for_exercise.xlsx', index=False)"
   ]
  },
  {
   "cell_type": "code",
   "execution_count": null,
   "id": "ee5d621c-3ffd-469f-b626-b09c49ff711d",
   "metadata": {},
   "outputs": [],
   "source": []
  }
 ],
 "metadata": {
  "kernelspec": {
   "display_name": "base",
   "language": "python",
   "name": "python3"
  },
  "language_info": {
   "codemirror_mode": {
    "name": "ipython",
    "version": 3
   },
   "file_extension": ".py",
   "mimetype": "text/x-python",
   "name": "python",
   "nbconvert_exporter": "python",
   "pygments_lexer": "ipython3",
   "version": "3.11.7"
  }
 },
 "nbformat": 4,
 "nbformat_minor": 5
}
